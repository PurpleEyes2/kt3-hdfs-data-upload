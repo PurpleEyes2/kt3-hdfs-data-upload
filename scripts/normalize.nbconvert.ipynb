{
 "cells": [
  {
   "cell_type": "code",
   "execution_count": 1,
   "id": "3263d2e6",
   "metadata": {
    "execution": {
     "iopub.execute_input": "2025-06-10T09:20:48.213967Z",
     "iopub.status.busy": "2025-06-10T09:20:48.213967Z",
     "iopub.status.idle": "2025-06-10T09:20:49.493219Z",
     "shell.execute_reply": "2025-06-10T09:20:49.493219Z"
    },
    "vscode": {
     "languageId": "plaintext"
    }
   },
   "outputs": [],
   "source": [
    "# Импорт библиотек\n",
    "import os\n",
    "import zipfile\n",
    "from pathlib import Path\n",
    "from datetime import datetime\n",
    "import pandas as pd\n",
    "from kaggle.api.kaggle_api_extended import KaggleApi"
   ]
  },
  {
   "cell_type": "code",
   "execution_count": 2,
   "id": "4c4b9ba6",
   "metadata": {
    "execution": {
     "iopub.execute_input": "2025-06-10T09:20:49.493219Z",
     "iopub.status.busy": "2025-06-10T09:20:49.493219Z",
     "iopub.status.idle": "2025-06-10T09:20:49.499597Z",
     "shell.execute_reply": "2025-06-10T09:20:49.499597Z"
    },
    "vscode": {
     "languageId": "plaintext"
    }
   },
   "outputs": [],
   "source": [
    "# Настройка путей\n",
    "BASE_DIR = Path.cwd().parent\n",
    "DATA_RAW = BASE_DIR / 'data' / 'raw'\n",
    "DATA_PROCESSED = BASE_DIR / 'data' / 'processed'"
   ]
  },
  {
   "cell_type": "code",
   "execution_count": 3,
   "id": "e7d572e2",
   "metadata": {
    "execution": {
     "iopub.execute_input": "2025-06-10T09:20:49.499597Z",
     "iopub.status.busy": "2025-06-10T09:20:49.499597Z",
     "iopub.status.idle": "2025-06-10T09:20:49.504836Z",
     "shell.execute_reply": "2025-06-10T09:20:49.504836Z"
    },
    "vscode": {
     "languageId": "plaintext"
    }
   },
   "outputs": [],
   "source": [
    "# Создание директорий\n",
    "DATA_RAW.mkdir(parents=True, exist_ok=True)\n",
    "DATA_PROCESSED.mkdir(parents=True, exist_ok=True)"
   ]
  },
  {
   "cell_type": "code",
   "execution_count": 4,
   "id": "a3200e69",
   "metadata": {
    "execution": {
     "iopub.execute_input": "2025-06-10T09:20:49.504836Z",
     "iopub.status.busy": "2025-06-10T09:20:49.504836Z",
     "iopub.status.idle": "2025-06-10T09:20:49.511077Z",
     "shell.execute_reply": "2025-06-10T09:20:49.511077Z"
    },
    "vscode": {
     "languageId": "plaintext"
    }
   },
   "outputs": [],
   "source": [
    "def download_kaggle_dataset(dataset, path):\n",
    "    \"\"\"Скачать датасет с Kaggle\"\"\"\n",
    "    from kaggle.api.kaggle_api_extended import KaggleApi\n",
    "    \n",
    "    api = KaggleApi()\n",
    "    api.authenticate()\n",
    "    \n",
    "    # Разделение на владельца и название\n",
    "    owner, dataset_name = dataset.split('/')\n",
    "    \n",
    "    # Скачивание\n",
    "    api.dataset_download_files(dataset, path=path, unzip=False)\n",
    "    \n",
    "    return path / f\"{dataset_name}.zip\""
   ]
  },
  {
   "cell_type": "code",
   "execution_count": 5,
   "id": "fdc18a17",
   "metadata": {
    "execution": {
     "iopub.execute_input": "2025-06-10T09:20:49.511077Z",
     "iopub.status.busy": "2025-06-10T09:20:49.511077Z",
     "iopub.status.idle": "2025-06-10T09:20:53.312103Z",
     "shell.execute_reply": "2025-06-10T09:20:53.311486Z"
    },
    "vscode": {
     "languageId": "plaintext"
    }
   },
   "outputs": [
    {
     "name": "stdout",
     "output_type": "stream",
     "text": [
      "Dataset URL: https://www.kaggle.com/datasets/saketk511/world-important-events-ancient-to-modern\n"
     ]
    },
    {
     "name": "stdout",
     "output_type": "stream",
     "text": [
      "Dataset URL: https://www.kaggle.com/datasets/nextmillionaire/car-accident-dataset\n"
     ]
    }
   ],
   "source": [
    "# Скачивание датасетов\n",
    "world_events_zip = download_kaggle_dataset(\n",
    "    'saketk511/world-important-events-ancient-to-modern',\n",
    "    DATA_RAW / 'world_events'\n",
    ")\n",
    "\n",
    "car_accident_zip = download_kaggle_dataset(\n",
    "    'nextmillionaire/car-accident-dataset',\n",
    "    DATA_RAW / 'car_accident'\n",
    ")"
   ]
  },
  {
   "cell_type": "code",
   "execution_count": 6,
   "id": "a8fbe0c0",
   "metadata": {
    "execution": {
     "iopub.execute_input": "2025-06-10T09:20:53.315283Z",
     "iopub.status.busy": "2025-06-10T09:20:53.315283Z",
     "iopub.status.idle": "2025-06-10T09:20:53.515208Z",
     "shell.execute_reply": "2025-06-10T09:20:53.515208Z"
    },
    "vscode": {
     "languageId": "plaintext"
    }
   },
   "outputs": [],
   "source": [
    "def extract_zip(zip_path, extract_to):\n",
    "    \"\"\"Распаковать архив\"\"\"\n",
    "    with zipfile.ZipFile(zip_path, 'r') as zip_ref:\n",
    "        zip_ref.extractall(extract_to)\n",
    "    return extract_to\n",
    "\n",
    "# Распаковка\n",
    "world_events_dir = extract_zip(world_events_zip, DATA_RAW / 'world_events')\n",
    "car_accident_dir = extract_zip(car_accident_zip, DATA_RAW / 'car_accident')"
   ]
  },
  {
   "cell_type": "code",
   "execution_count": 7,
   "id": "9cee8305",
   "metadata": {
    "execution": {
     "iopub.execute_input": "2025-06-10T09:20:53.515208Z",
     "iopub.status.busy": "2025-06-10T09:20:53.515208Z",
     "iopub.status.idle": "2025-06-10T09:20:57.894749Z",
     "shell.execute_reply": "2025-06-10T09:20:57.894749Z"
    },
    "vscode": {
     "languageId": "plaintext"
    }
   },
   "outputs": [
    {
     "name": "stderr",
     "output_type": "stream",
     "text": [
      "C:\\Users\\Jack\\AppData\\Local\\Temp\\ipykernel_18512\\1902918806.py:17: UserWarning: Could not infer format, so each element will be parsed individually, falling back to `dateutil`. To ensure parsing is consistent and as-expected, please specify a format.\n",
      "  df[col] = pd.to_datetime(df[col]).dt.strftime('%Y-%m-%d')\n"
     ]
    },
    {
     "name": "stderr",
     "output_type": "stream",
     "text": [
      "C:\\Users\\Jack\\AppData\\Local\\Temp\\ipykernel_18512\\1902918806.py:17: UserWarning: Could not infer format, so each element will be parsed individually, falling back to `dateutil`. To ensure parsing is consistent and as-expected, please specify a format.\n",
      "  df[col] = pd.to_datetime(df[col]).dt.strftime('%Y-%m-%d')\n"
     ]
    }
   ],
   "source": [
    "def normalize_data(df):\n",
    "    \"\"\"Нормализация данных\"\"\"\n",
    "    # Приведение названий колонок\n",
    "    df.columns = (\n",
    "        df.columns\n",
    "        .str.strip()\n",
    "        .str.lower()\n",
    "        .str.replace(r'[\\s\\-\\.]+', '_', regex=True)\n",
    "        .str.replace(r'[^a-z0-9_]', '', regex=True)\n",
    "        .str.strip('_')\n",
    "    )\n",
    "    \n",
    "    # Конвертация дат\n",
    "    for col in df.columns:\n",
    "        if 'date' in col or 'time' in col:\n",
    "            try:\n",
    "                df[col] = pd.to_datetime(df[col]).dt.strftime('%Y-%m-%d')\n",
    "            except:\n",
    "                continue\n",
    "    \n",
    "    # Очистка\n",
    "    df = df.replace(r'^\\s*$', None, regex=True)\n",
    "    df = df.drop_duplicates()\n",
    "    \n",
    "    return df\n",
    "\n",
    "# Обработка исторических событий\n",
    "world_events = pd.read_csv(next(world_events_dir.glob('*.csv')))\n",
    "world_events = normalize_data(world_events)\n",
    "world_events.to_parquet(\n",
    "    DATA_PROCESSED / 'world_events.parquet',\n",
    "    engine='pyarrow',\n",
    "    compression='snappy'\n",
    ")\n",
    "\n",
    "# Обработка данных об авариях\n",
    "car_accident = pd.read_csv(next(car_accident_dir.glob('*.csv')))\n",
    "car_accident = normalize_data(car_accident)\n",
    "car_accident.to_parquet(\n",
    "    DATA_PROCESSED / 'car_accident.parquet',\n",
    "    engine='pyarrow',\n",
    "    compression='snappy'\n",
    ")"
   ]
  }
 ],
 "metadata": {
  "language_info": {
   "codemirror_mode": {
    "name": "ipython",
    "version": 3
   },
   "file_extension": ".py",
   "mimetype": "text/x-python",
   "name": "python",
   "nbconvert_exporter": "python",
   "pygments_lexer": "ipython3",
   "version": "3.12.0"
  }
 },
 "nbformat": 4,
 "nbformat_minor": 5
}
